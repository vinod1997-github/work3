{
 "cells": [
  {
   "cell_type": "code",
   "execution_count": 1,
   "metadata": {},
   "outputs": [
    {
     "name": "stdout",
     "output_type": "stream",
     "text": [
      "Collecting geopy\n",
      "  Downloading geopy-1.22.0-py2.py3-none-any.whl (113 kB)\n",
      "Collecting geographiclib<2,>=1.49\n",
      "  Downloading geographiclib-1.50-py3-none-any.whl (38 kB)\n",
      "Installing collected packages: geographiclib, geopy\n",
      "Successfully installed geographiclib-1.50 geopy-1.22.0\n",
      "Collecting folium\n",
      "  Downloading folium-0.11.0-py2.py3-none-any.whl (93 kB)\n",
      "Collecting branca>=0.3.0\n",
      "  Downloading branca-0.4.1-py3-none-any.whl (24 kB)\n",
      "Requirement already satisfied: requests in c:\\users\\dell\\anaconda3\\lib\\site-packages (from folium) (2.22.0)\n",
      "Requirement already satisfied: numpy in c:\\users\\dell\\anaconda3\\lib\\site-packages (from folium) (1.18.1)\n",
      "Requirement already satisfied: jinja2>=2.9 in c:\\users\\dell\\anaconda3\\lib\\site-packages (from folium) (2.11.1)\n",
      "Requirement already satisfied: idna<2.9,>=2.5 in c:\\users\\dell\\anaconda3\\lib\\site-packages (from requests->folium) (2.8)\n",
      "Requirement already satisfied: urllib3!=1.25.0,!=1.25.1,<1.26,>=1.21.1 in c:\\users\\dell\\anaconda3\\lib\\site-packages (from requests->folium) (1.25.8)\n",
      "Requirement already satisfied: certifi>=2017.4.17 in c:\\users\\dell\\anaconda3\\lib\\site-packages (from requests->folium) (2019.11.28)\n",
      "Requirement already satisfied: chardet<3.1.0,>=3.0.2 in c:\\users\\dell\\anaconda3\\lib\\site-packages (from requests->folium) (3.0.4)\n",
      "Requirement already satisfied: MarkupSafe>=0.23 in c:\\users\\dell\\anaconda3\\lib\\site-packages (from jinja2>=2.9->folium) (1.1.1)\n",
      "Installing collected packages: branca, folium\n",
      "Successfully installed branca-0.4.1 folium-0.11.0\n",
      "Installed!\n"
     ]
    }
   ],
   "source": [
    "!pip install geopy\n",
    "!pip install folium\n",
    "print(\"Installed!\")"
   ]
  },
  {
   "cell_type": "code",
   "execution_count": 2,
   "metadata": {},
   "outputs": [
    {
     "name": "stdout",
     "output_type": "stream",
     "text": [
      "Imported!\n"
     ]
    }
   ],
   "source": [
    "import folium\n",
    "import requests \n",
    "import json \n",
    "import matplotlib.cm as cm\n",
    "import matplotlib.colors as colors\n",
    "import pandas as pd\n",
    "\n",
    "from pandas.io.json import json_normalize \n",
    "from sklearn.cluster import KMeans\n",
    "from geopy.geocoders import Nominatim \n",
    "\n",
    "pd.set_option('display.max_columns', None)\n",
    "pd.set_option('display.max_rows', None)\n",
    "\n",
    "print(\"Imported!\")"
   ]
  },
  {
   "cell_type": "code",
   "execution_count": 3,
   "metadata": {},
   "outputs": [
    {
     "name": "stdout",
     "output_type": "stream",
     "text": [
      "(103, 9)\n"
     ]
    },
    {
     "data": {
      "text/html": [
       "<div>\n",
       "<style scoped>\n",
       "    .dataframe tbody tr th:only-of-type {\n",
       "        vertical-align: middle;\n",
       "    }\n",
       "\n",
       "    .dataframe tbody tr th {\n",
       "        vertical-align: top;\n",
       "    }\n",
       "\n",
       "    .dataframe thead th {\n",
       "        text-align: right;\n",
       "    }\n",
       "</style>\n",
       "<table border=\"1\" class=\"dataframe\">\n",
       "  <thead>\n",
       "    <tr style=\"text-align: right;\">\n",
       "      <th></th>\n",
       "      <th>Unnamed: 0</th>\n",
       "      <th>Postal Code</th>\n",
       "      <th>Unnamed: 2</th>\n",
       "      <th>Borough</th>\n",
       "      <th>Unnamed: 4</th>\n",
       "      <th>Neighborhood</th>\n",
       "      <th>Unnamed: 6</th>\n",
       "      <th>Latitude</th>\n",
       "      <th>Longitude</th>\n",
       "    </tr>\n",
       "  </thead>\n",
       "  <tbody>\n",
       "    <tr>\n",
       "      <th>0</th>\n",
       "      <td>NaN</td>\n",
       "      <td>M3A</td>\n",
       "      <td>NaN</td>\n",
       "      <td>North York</td>\n",
       "      <td>NaN</td>\n",
       "      <td>Parkwoods</td>\n",
       "      <td>NaN</td>\n",
       "      <td>43.752935</td>\n",
       "      <td>-79.335641</td>\n",
       "    </tr>\n",
       "    <tr>\n",
       "      <th>1</th>\n",
       "      <td>NaN</td>\n",
       "      <td>M4A</td>\n",
       "      <td>NaN</td>\n",
       "      <td>North York</td>\n",
       "      <td>NaN</td>\n",
       "      <td>Victoria Village</td>\n",
       "      <td>NaN</td>\n",
       "      <td>43.728102</td>\n",
       "      <td>-79.311890</td>\n",
       "    </tr>\n",
       "    <tr>\n",
       "      <th>2</th>\n",
       "      <td>NaN</td>\n",
       "      <td>M5A</td>\n",
       "      <td>NaN</td>\n",
       "      <td>Downtown Toronto</td>\n",
       "      <td>NaN</td>\n",
       "      <td>Regent Park, Harbourfront</td>\n",
       "      <td>NaN</td>\n",
       "      <td>43.650964</td>\n",
       "      <td>-79.353041</td>\n",
       "    </tr>\n",
       "    <tr>\n",
       "      <th>3</th>\n",
       "      <td>NaN</td>\n",
       "      <td>M6A</td>\n",
       "      <td>NaN</td>\n",
       "      <td>North York</td>\n",
       "      <td>NaN</td>\n",
       "      <td>Lawrence Manor, Lawrence Heights</td>\n",
       "      <td>NaN</td>\n",
       "      <td>43.723265</td>\n",
       "      <td>-79.451211</td>\n",
       "    </tr>\n",
       "    <tr>\n",
       "      <th>4</th>\n",
       "      <td>NaN</td>\n",
       "      <td>M7A</td>\n",
       "      <td>NaN</td>\n",
       "      <td>Downtown Toronto</td>\n",
       "      <td>NaN</td>\n",
       "      <td>Queen's Park, Ontario Provincial Government</td>\n",
       "      <td>NaN</td>\n",
       "      <td>43.661790</td>\n",
       "      <td>-79.389390</td>\n",
       "    </tr>\n",
       "  </tbody>\n",
       "</table>\n",
       "</div>"
      ],
      "text/plain": [
       "   Unnamed: 0 Postal Code  Unnamed: 2           Borough  Unnamed: 4  \\\n",
       "0         NaN         M3A         NaN        North York         NaN   \n",
       "1         NaN         M4A         NaN        North York         NaN   \n",
       "2         NaN         M5A         NaN  Downtown Toronto         NaN   \n",
       "3         NaN         M6A         NaN        North York         NaN   \n",
       "4         NaN         M7A         NaN  Downtown Toronto         NaN   \n",
       "\n",
       "                                  Neighborhood  Unnamed: 6   Latitude  \\\n",
       "0                                    Parkwoods         NaN  43.752935   \n",
       "1                             Victoria Village         NaN  43.728102   \n",
       "2                    Regent Park, Harbourfront         NaN  43.650964   \n",
       "3             Lawrence Manor, Lawrence Heights         NaN  43.723265   \n",
       "4  Queen's Park, Ontario Provincial Government         NaN  43.661790   \n",
       "\n",
       "   Longitude  \n",
       "0 -79.335641  \n",
       "1 -79.311890  \n",
       "2 -79.353041  \n",
       "3 -79.451211  \n",
       "4 -79.389390  "
      ]
     },
     "execution_count": 3,
     "metadata": {},
     "output_type": "execute_result"
    }
   ],
   "source": [
    "df = pd.read_csv('toronto_part2.csv')\n",
    "print(df.shape)\n",
    "df.head()"
   ]
  },
  {
   "cell_type": "code",
   "execution_count": 4,
   "metadata": {},
   "outputs": [
    {
     "name": "stderr",
     "output_type": "stream",
     "text": [
      "C:\\Users\\DELL\\anaconda3\\lib\\site-packages\\ipykernel_launcher.py:2: DeprecationWarning: Using Nominatim with the default \"geopy/1.22.0\" `user_agent` is strongly discouraged, as it violates Nominatim's ToS https://operations.osmfoundation.org/policies/nominatim/ and may possibly cause 403 and 429 HTTP errors. Please specify a custom `user_agent` with `Nominatim(user_agent=\"my-application\")` or by overriding the default `user_agent`: `geopy.geocoders.options.default_user_agent = \"my-application\"`. In geopy 2.0 this will become an exception.\n",
      "  \n"
     ]
    },
    {
     "name": "stdout",
     "output_type": "stream",
     "text": [
      "The geograpical coordinate of Toronto Canada are 43.6534817, -79.3839347.\n"
     ]
    }
   ],
   "source": [
    "address = 'Toronto, Ontario Canada'\n",
    "geolocator = Nominatim()\n",
    "location = geolocator.geocode(address)\n",
    "latitude = location.latitude\n",
    "longitude = location.longitude\n",
    "print('The geograpical coordinate of Toronto Canada are {}, {}.'.format(latitude, longitude))"
   ]
  },
  {
   "cell_type": "code",
   "execution_count": 5,
   "metadata": {},
   "outputs": [
    {
     "name": "stdout",
     "output_type": "stream",
     "text": [
      "(39, 9)\n"
     ]
    },
    {
     "data": {
      "text/html": [
       "<div>\n",
       "<style scoped>\n",
       "    .dataframe tbody tr th:only-of-type {\n",
       "        vertical-align: middle;\n",
       "    }\n",
       "\n",
       "    .dataframe tbody tr th {\n",
       "        vertical-align: top;\n",
       "    }\n",
       "\n",
       "    .dataframe thead th {\n",
       "        text-align: right;\n",
       "    }\n",
       "</style>\n",
       "<table border=\"1\" class=\"dataframe\">\n",
       "  <thead>\n",
       "    <tr style=\"text-align: right;\">\n",
       "      <th></th>\n",
       "      <th>Unnamed: 0</th>\n",
       "      <th>Postal Code</th>\n",
       "      <th>Unnamed: 2</th>\n",
       "      <th>Borough</th>\n",
       "      <th>Unnamed: 4</th>\n",
       "      <th>Neighborhood</th>\n",
       "      <th>Unnamed: 6</th>\n",
       "      <th>Latitude</th>\n",
       "      <th>Longitude</th>\n",
       "    </tr>\n",
       "  </thead>\n",
       "  <tbody>\n",
       "    <tr>\n",
       "      <th>0</th>\n",
       "      <td>NaN</td>\n",
       "      <td>M5A</td>\n",
       "      <td>NaN</td>\n",
       "      <td>Downtown Toronto</td>\n",
       "      <td>NaN</td>\n",
       "      <td>Regent Park, Harbourfront</td>\n",
       "      <td>NaN</td>\n",
       "      <td>43.650964</td>\n",
       "      <td>-79.353041</td>\n",
       "    </tr>\n",
       "    <tr>\n",
       "      <th>1</th>\n",
       "      <td>NaN</td>\n",
       "      <td>M7A</td>\n",
       "      <td>NaN</td>\n",
       "      <td>Downtown Toronto</td>\n",
       "      <td>NaN</td>\n",
       "      <td>Queen's Park, Ontario Provincial Government</td>\n",
       "      <td>NaN</td>\n",
       "      <td>43.661790</td>\n",
       "      <td>-79.389390</td>\n",
       "    </tr>\n",
       "    <tr>\n",
       "      <th>2</th>\n",
       "      <td>NaN</td>\n",
       "      <td>M5B</td>\n",
       "      <td>NaN</td>\n",
       "      <td>Downtown Toronto</td>\n",
       "      <td>NaN</td>\n",
       "      <td>Garden District, Ryerson</td>\n",
       "      <td>NaN</td>\n",
       "      <td>43.657491</td>\n",
       "      <td>-79.377529</td>\n",
       "    </tr>\n",
       "    <tr>\n",
       "      <th>3</th>\n",
       "      <td>NaN</td>\n",
       "      <td>M5C</td>\n",
       "      <td>NaN</td>\n",
       "      <td>Downtown Toronto</td>\n",
       "      <td>NaN</td>\n",
       "      <td>St. James Town</td>\n",
       "      <td>NaN</td>\n",
       "      <td>43.651734</td>\n",
       "      <td>-79.375554</td>\n",
       "    </tr>\n",
       "    <tr>\n",
       "      <th>4</th>\n",
       "      <td>NaN</td>\n",
       "      <td>M4E</td>\n",
       "      <td>NaN</td>\n",
       "      <td>East Toronto</td>\n",
       "      <td>NaN</td>\n",
       "      <td>The Beaches</td>\n",
       "      <td>NaN</td>\n",
       "      <td>43.678148</td>\n",
       "      <td>-79.295349</td>\n",
       "    </tr>\n",
       "  </tbody>\n",
       "</table>\n",
       "</div>"
      ],
      "text/plain": [
       "   Unnamed: 0 Postal Code  Unnamed: 2           Borough  Unnamed: 4  \\\n",
       "0         NaN         M5A         NaN  Downtown Toronto         NaN   \n",
       "1         NaN         M7A         NaN  Downtown Toronto         NaN   \n",
       "2         NaN         M5B         NaN  Downtown Toronto         NaN   \n",
       "3         NaN         M5C         NaN  Downtown Toronto         NaN   \n",
       "4         NaN         M4E         NaN      East Toronto         NaN   \n",
       "\n",
       "                                  Neighborhood  Unnamed: 6   Latitude  \\\n",
       "0                    Regent Park, Harbourfront         NaN  43.650964   \n",
       "1  Queen's Park, Ontario Provincial Government         NaN  43.661790   \n",
       "2                     Garden District, Ryerson         NaN  43.657491   \n",
       "3                               St. James Town         NaN  43.651734   \n",
       "4                                  The Beaches         NaN  43.678148   \n",
       "\n",
       "   Longitude  \n",
       "0 -79.353041  \n",
       "1 -79.389390  \n",
       "2 -79.377529  \n",
       "3 -79.375554  \n",
       "4 -79.295349  "
      ]
     },
     "execution_count": 5,
     "metadata": {},
     "output_type": "execute_result"
    }
   ],
   "source": [
    "toronto_data = df[df['Borough'].str.contains(\"Toronto\")].reset_index(drop=True)\n",
    "print(toronto_data.shape)\n",
    "toronto_data.head()"
   ]
  },
  {
   "cell_type": "code",
   "execution_count": 6,
   "metadata": {},
   "outputs": [
    {
     "data": {
      "text/html": [
       "<div style=\"width:100%;\"><div style=\"position:relative;width:100%;height:0;padding-bottom:60%;\"><span style=\"color:#565656\">Make this Notebook Trusted to load map: File -> Trust Notebook</span><iframe src=\"about:blank\" style=\"position:absolute;width:100%;height:100%;left:0;top:0;border:none !important;\" data-html=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 onload=\"this.contentDocument.open();this.contentDocument.write(atob(this.getAttribute('data-html')));this.contentDocument.close();\" allowfullscreen webkitallowfullscreen mozallowfullscreen></iframe></div></div>"
      ],
      "text/plain": [
       "<folium.folium.Map at 0x2d5179301c8>"
      ]
     },
     "execution_count": 6,
     "metadata": {},
     "output_type": "execute_result"
    }
   ],
   "source": [
    "map_toronto = folium.Map(location=[latitude, longitude], zoom_start=11)\n",
    "\n",
    "for lat, lng, label in zip(toronto_data['Latitude'], toronto_data['Longitude'], toronto_data['Neighborhood']):\n",
    "    label = folium.Popup(label, parse_html=True)\n",
    "    folium.CircleMarker([lat, lng], radius=5, popup=label, color='blue', fill=True, fill_color='#3186cc', fill_opacity=0.7,parse_html=False).add_to(map_toronto)  \n",
    "map_toronto"
   ]
  },
  {
   "cell_type": "code",
   "execution_count": 7,
   "metadata": {},
   "outputs": [],
   "source": [
    "def getNearbyVenues(names, latitudes, longitudes, radius=500):\n",
    "    \n",
    "    venues_list=[]\n",
    "    for name, lat, lng in zip(names, latitudes, longitudes):\n",
    "        print(name)\n",
    "        \n",
    "        url = 'https://api.foursquare.com/v2/venues/explore?&client_id={}&client_secret={}&v={}&ll={},{}&radius={}&limit={}'.format(\n",
    "            CLIENT_ID, CLIENT_SECRET, VERSION, lat, lng, radius, LIMIT)\n",
    "        \n",
    "        results = requests.get(url).json()[\"response\"]['groups'][0]['items']\n",
    "        \n",
    "        venues_list.append([( name, lat, lng, v['venue']['name'], v['venue']['location']['lat'], v['venue']['location']['lng'], v['venue']['categories'][0]['name']) for v in results])\n",
    "\n",
    "    nearby_venues = pd.DataFrame([item for venue_list in venues_list for item in venue_list])\n",
    "    nearby_venues.columns = ['Neighborhood', 'Neighborhood Latitude', 'Neighborhood Longitude', 'Venue', 'Venue Latitude', 'Venue Longitude', 'Venue Category']\n",
    "    \n",
    "    return(nearby_venues)"
   ]
  },
  {
   "cell_type": "code",
   "execution_count": 8,
   "metadata": {},
   "outputs": [
    {
     "name": "stdout",
     "output_type": "stream",
     "text": [
      "Regent Park, Harbourfront\n"
     ]
    },
    {
     "ename": "NameError",
     "evalue": "name 'CLIENT_ID' is not defined",
     "output_type": "error",
     "traceback": [
      "\u001b[1;31m---------------------------------------------------------------------------\u001b[0m",
      "\u001b[1;31mNameError\u001b[0m                                 Traceback (most recent call last)",
      "\u001b[1;32m<ipython-input-8-dab1d8b7dd75>\u001b[0m in \u001b[0;36m<module>\u001b[1;34m\u001b[0m\n\u001b[0;32m      1\u001b[0m \u001b[0mdf\u001b[0m \u001b[1;33m=\u001b[0m \u001b[0mtoronto_data\u001b[0m\u001b[1;33m\u001b[0m\u001b[1;33m\u001b[0m\u001b[0m\n\u001b[1;32m----> 2\u001b[1;33m \u001b[0mtoronto_venues\u001b[0m \u001b[1;33m=\u001b[0m \u001b[0mgetNearbyVenues\u001b[0m\u001b[1;33m(\u001b[0m\u001b[0mnames\u001b[0m\u001b[1;33m=\u001b[0m\u001b[0mdf\u001b[0m\u001b[1;33m[\u001b[0m\u001b[1;34m'Neighborhood'\u001b[0m\u001b[1;33m]\u001b[0m\u001b[1;33m,\u001b[0m \u001b[0mlatitudes\u001b[0m\u001b[1;33m=\u001b[0m\u001b[0mdf\u001b[0m\u001b[1;33m[\u001b[0m\u001b[1;34m'Latitude'\u001b[0m\u001b[1;33m]\u001b[0m\u001b[1;33m,\u001b[0m\u001b[0mlongitudes\u001b[0m\u001b[1;33m=\u001b[0m\u001b[0mdf\u001b[0m\u001b[1;33m[\u001b[0m\u001b[1;34m'Longitude'\u001b[0m\u001b[1;33m]\u001b[0m\u001b[1;33m)\u001b[0m\u001b[1;33m\u001b[0m\u001b[1;33m\u001b[0m\u001b[0m\n\u001b[0m",
      "\u001b[1;32m<ipython-input-7-5785c99d4e5a>\u001b[0m in \u001b[0;36mgetNearbyVenues\u001b[1;34m(names, latitudes, longitudes, radius)\u001b[0m\n\u001b[0;32m      6\u001b[0m \u001b[1;33m\u001b[0m\u001b[0m\n\u001b[0;32m      7\u001b[0m         url = 'https://api.foursquare.com/v2/venues/explore?&client_id={}&client_secret={}&v={}&ll={},{}&radius={}&limit={}'.format(\n\u001b[1;32m----> 8\u001b[1;33m             CLIENT_ID, CLIENT_SECRET, VERSION, lat, lng, radius, LIMIT)\n\u001b[0m\u001b[0;32m      9\u001b[0m \u001b[1;33m\u001b[0m\u001b[0m\n\u001b[0;32m     10\u001b[0m         \u001b[0mresults\u001b[0m \u001b[1;33m=\u001b[0m \u001b[0mrequests\u001b[0m\u001b[1;33m.\u001b[0m\u001b[0mget\u001b[0m\u001b[1;33m(\u001b[0m\u001b[0murl\u001b[0m\u001b[1;33m)\u001b[0m\u001b[1;33m.\u001b[0m\u001b[0mjson\u001b[0m\u001b[1;33m(\u001b[0m\u001b[1;33m)\u001b[0m\u001b[1;33m[\u001b[0m\u001b[1;34m\"response\"\u001b[0m\u001b[1;33m]\u001b[0m\u001b[1;33m[\u001b[0m\u001b[1;34m'groups'\u001b[0m\u001b[1;33m]\u001b[0m\u001b[1;33m[\u001b[0m\u001b[1;36m0\u001b[0m\u001b[1;33m]\u001b[0m\u001b[1;33m[\u001b[0m\u001b[1;34m'items'\u001b[0m\u001b[1;33m]\u001b[0m\u001b[1;33m\u001b[0m\u001b[1;33m\u001b[0m\u001b[0m\n",
      "\u001b[1;31mNameError\u001b[0m: name 'CLIENT_ID' is not defined"
     ]
    }
   ],
   "source": [
    "\n",
    "df = toronto_data\n",
    "toronto_venues = getNearbyVenues(names=df['Neighborhood'], latitudes=df['Latitude'],longitudes=df['Longitude'])"
   ]
  },
  {
   "cell_type": "code",
   "execution_count": 9,
   "metadata": {},
   "outputs": [
    {
     "ename": "NameError",
     "evalue": "name 'toronto_venues' is not defined",
     "output_type": "error",
     "traceback": [
      "\u001b[1;31m---------------------------------------------------------------------------\u001b[0m",
      "\u001b[1;31mNameError\u001b[0m                                 Traceback (most recent call last)",
      "\u001b[1;32m<ipython-input-9-bb5995a629c6>\u001b[0m in \u001b[0;36m<module>\u001b[1;34m\u001b[0m\n\u001b[1;32m----> 1\u001b[1;33m \u001b[0mprint\u001b[0m\u001b[1;33m(\u001b[0m\u001b[0mtoronto_venues\u001b[0m\u001b[1;33m.\u001b[0m\u001b[0mshape\u001b[0m\u001b[1;33m)\u001b[0m\u001b[1;33m\u001b[0m\u001b[1;33m\u001b[0m\u001b[0m\n\u001b[0m\u001b[0;32m      2\u001b[0m \u001b[0mtoronto_venues\u001b[0m\u001b[1;33m.\u001b[0m\u001b[0mhead\u001b[0m\u001b[1;33m(\u001b[0m\u001b[1;33m)\u001b[0m\u001b[1;33m\u001b[0m\u001b[1;33m\u001b[0m\u001b[0m\n",
      "\u001b[1;31mNameError\u001b[0m: name 'toronto_venues' is not defined"
     ]
    }
   ],
   "source": [
    "print(toronto_venues.shape)\n",
    "toronto_venues.head()"
   ]
  },
  {
   "cell_type": "code",
   "execution_count": 10,
   "metadata": {},
   "outputs": [
    {
     "ename": "NameError",
     "evalue": "name 'toronto_venues' is not defined",
     "output_type": "error",
     "traceback": [
      "\u001b[1;31m---------------------------------------------------------------------------\u001b[0m",
      "\u001b[1;31mNameError\u001b[0m                                 Traceback (most recent call last)",
      "\u001b[1;32m<ipython-input-10-d6c696fe3766>\u001b[0m in \u001b[0;36m<module>\u001b[1;34m\u001b[0m\n\u001b[1;32m----> 1\u001b[1;33m \u001b[0mtoronto_venues\u001b[0m\u001b[1;33m.\u001b[0m\u001b[0mgroupby\u001b[0m\u001b[1;33m(\u001b[0m\u001b[1;34m'Neighborhood'\u001b[0m\u001b[1;33m)\u001b[0m\u001b[1;33m.\u001b[0m\u001b[0mcount\u001b[0m\u001b[1;33m(\u001b[0m\u001b[1;33m)\u001b[0m\u001b[1;33m\u001b[0m\u001b[1;33m\u001b[0m\u001b[0m\n\u001b[0m",
      "\u001b[1;31mNameError\u001b[0m: name 'toronto_venues' is not defined"
     ]
    }
   ],
   "source": [
    "\n",
    "toronto_venues.groupby('Neighborhood').count()"
   ]
  },
  {
   "cell_type": "code",
   "execution_count": 11,
   "metadata": {},
   "outputs": [
    {
     "ename": "NameError",
     "evalue": "name 'toronto_venues' is not defined",
     "output_type": "error",
     "traceback": [
      "\u001b[1;31m---------------------------------------------------------------------------\u001b[0m",
      "\u001b[1;31mNameError\u001b[0m                                 Traceback (most recent call last)",
      "\u001b[1;32m<ipython-input-11-7eba502922c0>\u001b[0m in \u001b[0;36m<module>\u001b[1;34m\u001b[0m\n\u001b[1;32m----> 1\u001b[1;33m \u001b[0mprint\u001b[0m\u001b[1;33m(\u001b[0m\u001b[1;34m'There are {} uniques categories.'\u001b[0m\u001b[1;33m.\u001b[0m\u001b[0mformat\u001b[0m\u001b[1;33m(\u001b[0m\u001b[0mlen\u001b[0m\u001b[1;33m(\u001b[0m\u001b[0mtoronto_venues\u001b[0m\u001b[1;33m[\u001b[0m\u001b[1;34m'Venue Category'\u001b[0m\u001b[1;33m]\u001b[0m\u001b[1;33m.\u001b[0m\u001b[0munique\u001b[0m\u001b[1;33m(\u001b[0m\u001b[1;33m)\u001b[0m\u001b[1;33m)\u001b[0m\u001b[1;33m)\u001b[0m\u001b[1;33m)\u001b[0m\u001b[1;33m\u001b[0m\u001b[1;33m\u001b[0m\u001b[0m\n\u001b[0m",
      "\u001b[1;31mNameError\u001b[0m: name 'toronto_venues' is not defined"
     ]
    }
   ],
   "source": [
    "print('There are {} uniques categories.'.format(len(toronto_venues['Venue Category'].unique())))"
   ]
  },
  {
   "cell_type": "code",
   "execution_count": null,
   "metadata": {},
   "outputs": [],
   "source": [
    "toronto_onehot = pd.get_dummies(toronto_venues[['Venue Category']], prefix=\"\", prefix_sep=\"\")\n",
    "\n",
    "toronto_onehot['Neighborhood'] = toronto_venues['Neighborhood'] \n",
    "\n",
    "fixed_columns = [toronto_onehot.columns[-1]] + list(toronto_onehot.columns[:-1])\n",
    "toronto_onehot = toronto_onehot[fixed_columns]\n",
    "\n",
    "toronto_onehot.head()"
   ]
  },
  {
   "cell_type": "code",
   "execution_count": null,
   "metadata": {},
   "outputs": [],
   "source": [
    "toronto_grouped.shape"
   ]
  },
  {
   "cell_type": "code",
   "execution_count": null,
   "metadata": {},
   "outputs": [],
   "source": [
    "num_top_venues = 5\n",
    "for neigh in toronto_grouped['Neighborhood']:\n",
    "    print(\"----\"+neigh+\"----\")\n",
    "    temp = toronto_grouped[toronto_grouped['Neighborhood'] == neigh].T.reset_index()\n",
    "    temp.columns = ['venue','freq']\n",
    "    temp = temp.iloc[1:]\n",
    "    temp['freq'] = temp['freq'].astype(float)\n",
    "    temp = temp.round({'freq': 2})\n",
    "    print(temp.sort_values('freq', ascending=False).reset_index(drop=True).head(num_top_venues))\n",
    "    print('\\n')"
   ]
  },
  {
   "cell_type": "code",
   "execution_count": null,
   "metadata": {},
   "outputs": [],
   "source": [
    "def return_most_common_venues(row, num_top_venues):\n",
    "    row_categories = row.iloc[1:]\n",
    "    row_categories_sorted = row_categories.sort_values(ascending=False)\n",
    "    return row_categories_sorted.index.values[0:num_top_venues]"
   ]
  },
  {
   "cell_type": "code",
   "execution_count": null,
   "metadata": {},
   "outputs": [],
   "source": [
    "import numpy as np\n",
    "num_top_venues = 10\n",
    "indicators = ['st', 'nd', 'rd']\n",
    "\n",
    "columns = ['Neighborhood']\n",
    "for ind in np.arange(num_top_venues):\n",
    "    try:\n",
    "        columns.append('{}{} Most Common Venue'.format(ind+1, indicators[ind]))\n",
    "    except:\n",
    "        columns.append('{}th Most Common Venue'.format(ind+1))\n",
    "\n",
    "neighborhoods_venues_sorted = pd.DataFrame(columns=columns)\n",
    "neighborhoods_venues_sorted['Neighborhood'] = toronto_grouped['Neighborhood']\n",
    "\n",
    "for ind in np.arange(toronto_grouped.shape[0]):\n",
    "    neighborhoods_venues_sorted.iloc[ind, 1:] = return_most_common_venues(toronto_grouped.iloc[ind, :], num_top_venues)\n",
    "\n",
    "neighborhoods_venues_sorted.shape"
   ]
  },
  {
   "cell_type": "code",
   "execution_count": null,
   "metadata": {},
   "outputs": [],
   "source": [
    "from sklearn.cluster import KMeans\n",
    "import sklearn.cluster.k_means_\n",
    "km = KMeans(n_clusters=3, init='k-means++', max_iter=100, n_init=1, \n",
    "  verbose=True)"
   ]
  },
  {
   "cell_type": "code",
   "execution_count": null,
   "metadata": {},
   "outputs": [],
   "source": [
    "kclusters = 10\n",
    "toronto_grouped_clustering = toronto_grouped.drop('Neighborhood', 1)\n",
    "kmeans = KMeans(n_clusters=kclusters, random_state=1).fit(toronto_grouped_clustering)\n",
    "print(kmeans.labels_[0:10])\n",
    "print(len(kmeans.labels_))"
   ]
  },
  {
   "cell_type": "code",
   "execution_count": null,
   "metadata": {},
   "outputs": [],
   "source": [
    "df.head()"
   ]
  },
  {
   "cell_type": "code",
   "execution_count": null,
   "metadata": {},
   "outputs": [],
   "source": [
    "neighborhoods_venues_sorted.insert(0, 'Cluster Labels', kmeans.labels_)\n",
    "toronto_merged = df\n",
    "toronto_merged = toronto_merged.join(neighborhoods_venues_sorted.set_index('Neighborhood'), on='Neighborhood')\n",
    "\n",
    "toronto_merged.head() # check the last columns!"
   ]
  },
  {
   "cell_type": "code",
   "execution_count": null,
   "metadata": {},
   "outputs": [],
   "source": [
    "map_clusters = folium.Map(location=[latitude, longitude], zoom_start=11)\n",
    "\n",
    "x = np.arange(kclusters)\n",
    "ys = [i+x+(i*x)**2 for i in range(kclusters)]\n",
    "colors_array = cm.rainbow(np.linspace(0, 1, len(ys)))\n",
    "rainbow = [colors.rgb2hex(i) for i in colors_array]\n",
    "\n",
    "markers_colors = []\n",
    "for lat, lon, poi, cluster in zip(toronto_merged['Latitude'], toronto_merged['Longitude'], toronto_merged['Neighborhood'],kmeans.labels_):\n",
    "    label = folium.Popup(str(poi) + ' Cluster ' + str(cluster), parse_html=True)\n",
    "    folium.CircleMarker([lat, lon], radius=5, popup=label, color=rainbow[cluster-1], fill=True, fill_color=rainbow[cluster-1], fill_opacity=0.7).add_to(map_clusters)\n",
    "map_clusters"
   ]
  }
 ],
 "metadata": {
  "kernelspec": {
   "display_name": "Python 3",
   "language": "python",
   "name": "python3"
  },
  "language_info": {
   "codemirror_mode": {
    "name": "ipython",
    "version": 3
   },
   "file_extension": ".py",
   "mimetype": "text/x-python",
   "name": "python",
   "nbconvert_exporter": "python",
   "pygments_lexer": "ipython3",
   "version": "3.7.6"
  }
 },
 "nbformat": 4,
 "nbformat_minor": 4
}
